{
  "nbformat": 4,
  "nbformat_minor": 0,
  "metadata": {
    "colab": {
      "name": "M1P1V2_Pengenalan_Python.ipynb",
      "provenance": []
    },
    "kernelspec": {
      "name": "python3",
      "display_name": "Python 3"
    },
    "language_info": {
      "name": "python"
    }
  },
  "cells": [
    {
      "cell_type": "markdown",
      "metadata": {
        "id": "_BFcGNDHKn7t"
      },
      "source": [
        "#Pengenalan Python"
      ]
    },
    {
      "cell_type": "markdown",
      "metadata": {
        "id": "U93Zg86HL2Zh"
      },
      "source": [
        "Python adalah bahasa pemograman tingkat tinggi denagn dynamic semantics, bersifat objek oriented dan interpretatif. Bahasa pemograman ini fokus dikembangkan pada keterbacaan bahasa pemograman.\n",
        "1. **Bahasa Pemograman Tingkat Tinggi(High Level Programing)** Artinya sintaks kode lebih mudah ditafsirkan oleh manusia.\n",
        "2. **Interpretatif** ini artinya bahasa ini memerlukan intrepeter atau penerjemah. Ini memungkinkan untuk kita menggunakan bahasa yang lebih mudah kita pahami.\n",
        "3. **Objek Oriented** Ini berarti bahasa pemograman ini berorientasi pada objek. Hal ini membuat Python lebih mudah untuk dikembangkan.\n",
        "4. **Dynamic Semantics** Python secara otomatis akan menyesuaikan tipe dari suatu variabel berdasarkan inputnya."
      ]
    },
    {
      "cell_type": "markdown",
      "metadata": {
        "id": "bUleJSuYx4Ce"
      },
      "source": [
        "# Mengapa Python?"
      ]
    },
    {
      "cell_type": "markdown",
      "metadata": {
        "id": "biDKwwBKyAc3"
      },
      "source": [
        "1. Mudah dipahami\n",
        "2. Gratis dan Open Source\n",
        "3. Dinamis\n",
        "4. Memiliki Library terlengkap untuk Data Sains"
      ]
    },
    {
      "cell_type": "markdown",
      "metadata": {
        "id": "3mfpAyASysY0"
      },
      "source": [
        "# Struktur Program Pada Python"
      ]
    },
    {
      "cell_type": "markdown",
      "metadata": {
        "id": "qkDzYRZVy3Ax"
      },
      "source": [
        "# Python pada umumnya terdiri dari:\n",
        "1. **Statement**\n"
      ]
    },
    {
      "cell_type": "code",
      "metadata": {
        "colab": {
          "base_uri": "https://localhost:8080/"
        },
        "id": "tgIxSF5Dhb2A",
        "outputId": "a821c72a-30a1-4fbb-cbb0-ce7210f5c61a"
      },
      "source": [
        "print(\"belajar Python menyenangkan\")\n",
        "print(\"Hallo dunia\")"
      ],
      "execution_count": 1,
      "outputs": [
        {
          "output_type": "stream",
          "name": "stdout",
          "text": [
            "belajar Python menyenangkan\n",
            "Hallo dunia\n"
          ]
        }
      ]
    },
    {
      "cell_type": "markdown",
      "metadata": {
        "id": "zoSY6RV6hqn1"
      },
      "source": [
        "2. **Variables**"
      ]
    },
    {
      "cell_type": "code",
      "metadata": {
        "id": "KhaRAVVXhzEB"
      },
      "source": [
        "bilangan1 = 5\n",
        "bilangan2 = 10\n",
        "kalimat = \"Pejuang Data 3\""
      ],
      "execution_count": 2,
      "outputs": []
    },
    {
      "cell_type": "markdown",
      "metadata": {
        "id": "_zTBggykiGgz"
      },
      "source": [
        "3. **Literals** : simbol yang digunakan untuk mengisi suatu variabel\n",
        "\n",
        "---\n",
        "\n"
      ]
    },
    {
      "cell_type": "markdown",
      "metadata": {
        "id": "d9nrqdQIiVE1"
      },
      "source": [
        "4. **Operators** : Simbol-simbol yang dapat digunakan untuk mengubah nilai dari suatu variabel dengan melibatkan satu atau lebih variabel dan literal."
      ]
    },
    {
      "cell_type": "code",
      "metadata": {
        "colab": {
          "base_uri": "https://localhost:8080/"
        },
        "id": "DdhjU4KoxU9d",
        "outputId": "cc21b14a-811f-4439-9a04-3225be91cdc1"
      },
      "source": [
        "bilangan1 + bilangan2"
      ],
      "execution_count": 3,
      "outputs": [
        {
          "output_type": "execute_result",
          "data": {
            "text/plain": [
              "15"
            ]
          },
          "metadata": {},
          "execution_count": 3
        }
      ]
    },
    {
      "cell_type": "markdown",
      "metadata": {
        "id": "ieo8Le6OxiLM"
      },
      "source": [
        "5. **Reserved Words**: Kumpulan kata-kata yang memiliki makna khusus bahasa pemograman Python. Contoh: False, return, dan for "
      ]
    },
    {
      "cell_type": "markdown",
      "metadata": {
        "id": "M22V2dj75fta"
      },
      "source": [
        "6. **Whitespace**: Pada bahasa Python, spasi dan tab memiliki makna khusus untuk menandai serangkaian blok dalam kode Python."
      ]
    },
    {
      "cell_type": "markdown",
      "metadata": {
        "id": "q20TNoZl-QeM"
      },
      "source": [
        "7. **Comments**: Comments merupakan sekumpulan teks yang yang dituliskan di dalam sebuah program yang tidak akan mempengaruhi hasil dari sebuah program. \n",
        "\n",
        "Terdapat dua jenis comment di dalam Python, yaitu:\n",
        "\n",
        "\n",
        "**a. single line comment**(comment dalam satu baris) seperti pada contoh berikut\n"
      ]
    },
    {
      "cell_type": "code",
      "metadata": {
        "colab": {
          "base_uri": "https://localhost:8080/"
        },
        "id": "ywGT1KQY_j5t",
        "outputId": "fddae767-800d-4987-fe0e-2b9f06eeff60"
      },
      "source": [
        "# Ini adalah comment \n",
        "print(\"Belajar Python\")\n"
      ],
      "execution_count": 5,
      "outputs": [
        {
          "output_type": "stream",
          "name": "stdout",
          "text": [
            "Belajar Python\n"
          ]
        }
      ]
    },
    {
      "cell_type": "markdown",
      "metadata": {
        "id": "CFY55rjl_uMk"
      },
      "source": [
        "**b. multi line comment**(comment dalam beberapa baris) yang dapat dituliskan seperti pada contoh berikut"
      ]
    },
    {
      "cell_type": "code",
      "metadata": {
        "colab": {
          "base_uri": "https://localhost:8080/"
        },
        "id": "w80J-tBFAA3E",
        "outputId": "6c0dec59-38e2-4ed6-a5cb-547720519337"
      },
      "source": [
        "#...\n",
        "#Ini adalah komentar panjang\n",
        "#Bisa digunakan untuk memberikan penjelasan panjang pada sell kode Python\n",
        "#Misal dokumentasi program, spesifikasi input, output atau yang lainnya.\n",
        "#...\n",
        "\n",
        "print(\"Belajar Python menyenangkan\")\n"
      ],
      "execution_count": 9,
      "outputs": [
        {
          "output_type": "stream",
          "name": "stdout",
          "text": [
            "Belajar Python menyenangkan\n"
          ]
        }
      ]
    }
  ]
}