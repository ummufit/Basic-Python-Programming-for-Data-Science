{
  "nbformat": 4,
  "nbformat_minor": 0,
  "metadata": {
    "colab": {
      "name": "M1P2V2_Struktur_Data_List.ipynb",
      "provenance": []
    },
    "kernelspec": {
      "name": "python3",
      "display_name": "Python 3"
    },
    "language_info": {
      "name": "python"
    }
  },
  "cells": [
    {
      "cell_type": "markdown",
      "metadata": {
        "id": "iRGAnCihZM_2"
      },
      "source": [
        "# List"
      ]
    },
    {
      "cell_type": "markdown",
      "metadata": {
        "id": "lLmij84qo50K"
      },
      "source": [
        "List adalah jenis kumpulan data terurut(ordered sequence), dan merupakan salah satu variabel yang sering digunakan pada Python. Serupa, namun tidak sama dengan array pada bahasa pemograman lainnya. Bedanya, elemen list pada python tidak harus memiliki tipe data yang sama. Mendeklarasikan List cukup mudah dengan menggunakan kurung siku dan elemen yang dipisahkan dengan koma."
      ]
    },
    {
      "cell_type": "markdown",
      "metadata": {
        "id": "UeP5juVY6mWU"
      },
      "source": [
        "Setiap data didalamnya dapat diakses dengan indeks yang dimulai dari 0"
      ]
    },
    {
      "cell_type": "code",
      "metadata": {
        "colab": {
          "base_uri": "https://localhost:8080/"
        },
        "id": "6WFiTDDFoQXD",
        "outputId": "32f62f25-0f70-4e70-8542-4312d9a14bdd"
      },
      "source": [
        "# Contoh List\n",
        "L1 = [1,4,2,13]\n",
        "\n",
        "print(type(L1))"
      ],
      "execution_count": null,
      "outputs": [
        {
          "output_type": "stream",
          "name": "stdout",
          "text": [
            "<class 'list'>\n"
          ]
        }
      ]
    },
    {
      "cell_type": "code",
      "metadata": {
        "colab": {
          "base_uri": "https://localhost:8080/"
        },
        "id": "fQtqw3zN-Hn2",
        "outputId": "d84fd033-876f-4386-f043-114386860f55"
      },
      "source": [
        "L2 = [\"a\", \"Python\", 3]\n",
        "L2"
      ],
      "execution_count": null,
      "outputs": [
        {
          "output_type": "execute_result",
          "data": {
            "text/plain": [
              "['a', 'Python', 3]"
            ]
          },
          "metadata": {},
          "execution_count": 2
        }
      ]
    },
    {
      "cell_type": "code",
      "metadata": {
        "colab": {
          "base_uri": "https://localhost:8080/"
        },
        "id": "TYen6SVh-Z4l",
        "outputId": "71060609-ec57-45d8-813a-892aaaf686ac"
      },
      "source": [
        "print(L1)\n",
        "print(L2)"
      ],
      "execution_count": null,
      "outputs": [
        {
          "output_type": "stream",
          "name": "stdout",
          "text": [
            "[1, 4, 2, 13]\n",
            "['a', 'Python', 3]\n"
          ]
        }
      ]
    },
    {
      "cell_type": "markdown",
      "metadata": {
        "id": "f9U7TSuW-hzz"
      },
      "source": [
        "**Latihan 1**"
      ]
    },
    {
      "cell_type": "code",
      "metadata": {
        "colab": {
          "base_uri": "https://localhost:8080/"
        },
        "id": "kJnSD4C6-rap",
        "outputId": "f08a81e9-6c36-4455-894d-fa5f8e721a27"
      },
      "source": [
        "list1 = [1,2,3,4,5,6,7,8,9,10]\n",
        "print(type(list1))\n",
        "list2 = [\"K\", \"Ummu\", 3, 6, 9]\n",
        "list2\n",
        "print(list1)\n",
        "print(list2)"
      ],
      "execution_count": null,
      "outputs": [
        {
          "output_type": "stream",
          "name": "stdout",
          "text": [
            "<class 'list'>\n",
            "[1, 2, 3, 4, 5, 6, 7, 8, 9, 10]\n",
            "['K', 'Ummu', 3, 6, 9]\n"
          ]
        }
      ]
    },
    {
      "cell_type": "markdown",
      "metadata": {
        "id": "CVAbQpL6BQJ8"
      },
      "source": [
        "Indeks di Python(List,Tuple) mulai dari 0"
      ]
    },
    {
      "cell_type": "code",
      "metadata": {
        "colab": {
          "base_uri": "https://localhost:8080/"
        },
        "id": "SqBywY2vBb4d",
        "outputId": "a0ebd063-a9c8-434d-c1ac-0fd6e6ec1e0e"
      },
      "source": [
        "# Sifat-sifat List\n",
        "\n",
        "#Terurut/Ordered\n",
        "print(\"Memanggil List L1 dengan indeks urutan:\", L1[0:3])\n",
        "\n",
        "#Bisa diganti/Mutable\n",
        "L1[1] = 2\n",
        "print(\"List L1 setelah diganti elemennya:\", L1)\n",
        "\n",
        "#Dapat diindeks/Slicing\n",
        "print(\"Slicing list L1: \", L1[3])\n",
        "\n",
        "#Dapat diijinkan Duplikasi\n",
        "L1 = [1, \"Dua\", True, 2+3j, 2+3j]\n",
        "print(\"Duplikasi pada List L1\", L1)\n",
        "\n"
      ],
      "execution_count": null,
      "outputs": [
        {
          "output_type": "stream",
          "name": "stdout",
          "text": [
            "Memanggil List L1 dengan indeks urutan: [1, 4, 2]\n",
            "List L1 setelah diganti elemennya: [1, 2, 2, 13]\n",
            "Slicing list L1:  13\n",
            "Duplikasi pada List L1 [1, 'Dua', True, (2+3j), (2+3j)]\n"
          ]
        }
      ]
    },
    {
      "cell_type": "markdown",
      "metadata": {
        "id": "4gHmanXRLSEF"
      },
      "source": [
        "**Latihan 2**"
      ]
    },
    {
      "cell_type": "code",
      "metadata": {
        "colab": {
          "base_uri": "https://localhost:8080/"
        },
        "id": "Bsxyw11gLWhS",
        "outputId": "26978f7f-9f48-4dcb-fc1b-d3e49ca93c28"
      },
      "source": [
        "# Sifat-sifat List\n",
        "\n",
        "#Terurut/Ordered\n",
        "print(\"Memanggil List list1 dengan indeks urutan:\", list1[0:4])\n",
        "\n",
        "#Bisa diganti/Mutable\n",
        "L1[1] = 2\n",
        "print(\"List list1 setelah diganti elemennya:\", list1)\n",
        "\n",
        "#Dapat diindeks/Slicing\n",
        "print(\"Slicing list list1: \", list2[3])\n",
        "\n",
        "#Dapat diijinkan Duplikasi\n",
        "list1 = [1, \"Dua\", True, 2+3j, 2+3j]\n",
        "print(\"Duplikasi pada List list1\", list1)\n"
      ],
      "execution_count": null,
      "outputs": [
        {
          "output_type": "stream",
          "name": "stdout",
          "text": [
            "Memanggil List list1 dengan indeks urutan: [1, 2, 3, 4]\n",
            "List list1 setelah diganti elemennya: [1, 2, 3, 4, 5, 6, 7, 8, 9, 10]\n",
            "Slicing list list1:  6\n",
            "Duplikasi pada List list1 [1, 'Dua', True, (2+3j), (2+3j)]\n"
          ]
        }
      ]
    }
  ]
}