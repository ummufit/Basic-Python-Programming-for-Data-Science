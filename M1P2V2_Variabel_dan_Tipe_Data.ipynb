{
  "nbformat": 4,
  "nbformat_minor": 0,
  "metadata": {
    "colab": {
      "name": "M1P2V2_Variabel dan Tipe Data.ipynb",
      "provenance": []
    },
    "kernelspec": {
      "name": "python3",
      "display_name": "Python 3"
    },
    "language_info": {
      "name": "python"
    }
  },
  "cells": [
    {
      "cell_type": "markdown",
      "metadata": {
        "id": "UfusarcVEy2d"
      },
      "source": [
        "# Variabel & Tipe Data"
      ]
    },
    {
      "cell_type": "markdown",
      "metadata": {
        "id": "EKMyCOZYFBol"
      },
      "source": [
        "# Variabel"
      ]
    },
    {
      "cell_type": "markdown",
      "metadata": {
        "id": "7jvd04eZYaj_"
      },
      "source": [
        "Variabel: Lokasi penyimpanan yang dapat digunakan untuk menampung sebuah data atau informasi"
      ]
    },
    {
      "cell_type": "markdown",
      "metadata": {
        "id": "WrfOt9UeYeSz"
      },
      "source": [
        "Syarat-syarat penamaan variabel\n",
        "1. Karakter-karekter yang digunakan untuk penamaan variabel adalah alphabet, angka dan underscore.\n",
        "2. Karakter pertama variabel harus berupa huruf atau garis bawah/underscore, dan tidak bisa berupa angka.\n",
        "3. Nama sebuah variabel tidak bisa menggunakan keyword atau reserved words dari bahasa python seperti for, if dan lainnya.\n",
        "4. Karakter pada nama variabel bersifat sensitif(sensitif-case)"
      ]
    },
    {
      "cell_type": "code",
      "metadata": {
        "colab": {
          "base_uri": "https://localhost:8080/"
        },
        "id": "2bXqBN1VGv3O",
        "outputId": "d6f33180-2f71-4f33-d678-311b224c34c3"
      },
      "source": [
        "#Membuat Variabel\n",
        "kalimat = \"Ini adalah variabel\"\n",
        "bilangan1 = 4\n",
        "bilangan2 = 2.5\n",
        "bilangan3 = True\n",
        "bilangan4 = 1j + 4\n",
        "\n",
        "#Menampilkan Variabel\n",
        "print(kalimat)\n",
        "print(bilangan1)\n"
      ],
      "execution_count": 1,
      "outputs": [
        {
          "output_type": "stream",
          "name": "stdout",
          "text": [
            "Ini adalah variabel\n",
            "4\n"
          ]
        }
      ]
    },
    {
      "cell_type": "markdown",
      "metadata": {
        "id": "ad_Paf_NHWkv"
      },
      "source": [
        "**Latihan 1**"
      ]
    },
    {
      "cell_type": "code",
      "metadata": {
        "colab": {
          "base_uri": "https://localhost:8080/"
        },
        "id": "TD12WLlqHazD",
        "outputId": "85438f55-5cad-4031-c6b8-06afa66c769c"
      },
      "source": [
        "#Membuat Variabel\n",
        "kata = \"kumpulan huruf yang memiliki makna\"\n",
        "bilangan5 = 9\n",
        "bilangan6 = 2.7\n",
        "bilangan7 = False\n",
        "bilangan8 = 4j + 4\n",
        "\n",
        "#Menampilkan Variabel\n",
        "print(kata)\n",
        "print(bilangan6)\n",
        "print(bilangan7)\n",
        "\n"
      ],
      "execution_count": 6,
      "outputs": [
        {
          "output_type": "stream",
          "name": "stdout",
          "text": [
            "kumpulan huruf yang memiliki makna\n",
            "2.7\n",
            "False\n"
          ]
        }
      ]
    },
    {
      "cell_type": "markdown",
      "metadata": {
        "id": "i7gKqrt1Pjb0"
      },
      "source": [
        "# Tipe Data"
      ]
    },
    {
      "cell_type": "markdown",
      "metadata": {
        "id": "AMPthIJQIvG7"
      },
      "source": [
        "5 Tipe data yaitu:\n",
        "1. Integer atau bilangan bulat\n",
        "2. Float atau bilangan desimal\n",
        "3. String atau kalimat\n",
        "4. Boolean yang terdiri dari True dan False\n",
        "5. Kompleks yang merupakan bilangan kompleks\n"
      ]
    },
    {
      "cell_type": "code",
      "metadata": {
        "colab": {
          "base_uri": "https://localhost:8080/"
        },
        "id": "rxY30LfLJPrV",
        "outputId": "5748a9f4-ab32-46c9-d476-c58c04ab9e2d"
      },
      "source": [
        "#Menampilkan Tipe Data\n",
        "print(type(kalimat))\n",
        "print(type(bilangan1))\n",
        "print(type(bilangan2))\n",
        "print(type(bilangan3))\n",
        "print(type(bilangan4))"
      ],
      "execution_count": 7,
      "outputs": [
        {
          "output_type": "stream",
          "name": "stdout",
          "text": [
            "<class 'str'>\n",
            "<class 'int'>\n",
            "<class 'float'>\n",
            "<class 'bool'>\n",
            "<class 'complex'>\n"
          ]
        }
      ]
    },
    {
      "cell_type": "markdown",
      "metadata": {
        "id": "h5KKCKV4KTaD"
      },
      "source": [
        "**Latihan 2**"
      ]
    },
    {
      "cell_type": "code",
      "metadata": {
        "colab": {
          "base_uri": "https://localhost:8080/"
        },
        "id": "RQDu_2izKXQT",
        "outputId": "78ca66f4-ada0-4e0f-eda1-6b45f1de60ed"
      },
      "source": [
        "print(type(kata))\n",
        "print(type(bilangan5))\n",
        "print(type(bilangan6))\n",
        "print(type(bilangan7))\n",
        "print(type(bilangan8))"
      ],
      "execution_count": 8,
      "outputs": [
        {
          "output_type": "stream",
          "name": "stdout",
          "text": [
            "<class 'str'>\n",
            "<class 'int'>\n",
            "<class 'float'>\n",
            "<class 'bool'>\n",
            "<class 'complex'>\n"
          ]
        }
      ]
    },
    {
      "cell_type": "markdown",
      "metadata": {
        "id": "HEGkuP9ZLSI6"
      },
      "source": [
        "#Konversi Tipe Data"
      ]
    },
    {
      "cell_type": "markdown",
      "metadata": {
        "id": "4DKqr67fLg9z"
      },
      "source": [
        "Syntax Konversi Tipe Data\n",
        "1. Integer = int()\n",
        "2. Float = float()\n",
        "3. String = str()\n",
        "4. Boolean = bool()\n",
        "5. Complex = complex()\n"
      ]
    },
    {
      "cell_type": "code",
      "metadata": {
        "colab": {
          "base_uri": "https://localhost:8080/"
        },
        "id": "s_cHLuiVN8lV",
        "outputId": "5156686e-b139-484c-a662-ccb33fca6f0e"
      },
      "source": [
        "# konversi tipe data integer\n",
        "print(int(bilangan2))\n",
        "print(int(bilangan3))"
      ],
      "execution_count": 14,
      "outputs": [
        {
          "output_type": "stream",
          "name": "stdout",
          "text": [
            "2\n",
            "1\n"
          ]
        }
      ]
    },
    {
      "cell_type": "code",
      "metadata": {
        "colab": {
          "base_uri": "https://localhost:8080/"
        },
        "id": "LeUWHcYuOJ8l",
        "outputId": "2a032309-4774-433b-f886-20700bda389c"
      },
      "source": [
        "# konversi tipe data float\n",
        "print(float(bilangan1))\n",
        "print(float(bilangan3))"
      ],
      "execution_count": 13,
      "outputs": [
        {
          "output_type": "stream",
          "name": "stdout",
          "text": [
            "4.0\n",
            "1.0\n"
          ]
        }
      ]
    },
    {
      "cell_type": "code",
      "metadata": {
        "colab": {
          "base_uri": "https://localhost:8080/"
        },
        "id": "23PSUxmVPFnn",
        "outputId": "afdace54-e911-4c83-97ab-8c0aafc465fe"
      },
      "source": [
        "# konversi tipe data boolean\n",
        "print(bool(bilangan1))\n",
        "print(bool(bilangan2))"
      ],
      "execution_count": 12,
      "outputs": [
        {
          "output_type": "stream",
          "name": "stdout",
          "text": [
            "True\n",
            "True\n"
          ]
        }
      ]
    },
    {
      "cell_type": "code",
      "metadata": {
        "colab": {
          "base_uri": "https://localhost:8080/"
        },
        "id": "e6NdlrQxOQ4U",
        "outputId": "2ade1e7f-fac7-4c56-cdbc-146b8974fd96"
      },
      "source": [
        "# konversi tipe data string\n",
        "print(str(bilangan1))\n",
        "print(str(bilangan2))\n",
        "print(str(bilangan3))"
      ],
      "execution_count": 11,
      "outputs": [
        {
          "output_type": "stream",
          "name": "stdout",
          "text": [
            "4\n",
            "2.5\n",
            "True\n"
          ]
        }
      ]
    },
    {
      "cell_type": "code",
      "metadata": {
        "colab": {
          "base_uri": "https://localhost:8080/"
        },
        "id": "TDtl8R7pPS5S",
        "outputId": "1253b19b-29f5-46ae-92c5-e7b4265aaeaf"
      },
      "source": [
        "# konversi tipe data complex\n",
        "print(complex(bilangan1))\n",
        "print(complex(bilangan2))\n",
        "print(complex(bilangan3))"
      ],
      "execution_count": 10,
      "outputs": [
        {
          "output_type": "stream",
          "name": "stdout",
          "text": [
            "(4+0j)\n",
            "(2.5+0j)\n",
            "(1+0j)\n"
          ]
        }
      ]
    },
    {
      "cell_type": "markdown",
      "metadata": {
        "id": "6naeuT7XPgKd"
      },
      "source": [
        "**Latihan Operator**"
      ]
    },
    {
      "cell_type": "code",
      "metadata": {
        "colab": {
          "base_uri": "https://localhost:8080/"
        },
        "id": "YmHdCWPfPky2",
        "outputId": "5aab20e7-050b-4cda-a65a-dd092800406a"
      },
      "source": [
        "# konversi tipe data integer\n",
        "print(int(bilangan5))\n",
        "print(int(bilangan6))\n",
        "\n",
        "# konversi tipe data float\n",
        "print(float(bilangan7))\n",
        "print(float(bilangan5))\n",
        "\n",
        "# konversi tipe data boolean\n",
        "print(bool(bilangan5))\n",
        "print(bool(bilangan6))\n",
        "\n",
        "# konversi tipe data string\n",
        "print(str(bilangan5))\n",
        "print(str(bilangan6))\n",
        "print(str(bilangan7))\n",
        "\n",
        "# konversi tipe data complex\n",
        "print(complex(bilangan6))\n",
        "print(complex(bilangan7))\n",
        "print(complex(bilangan8))"
      ],
      "execution_count": 9,
      "outputs": [
        {
          "output_type": "stream",
          "name": "stdout",
          "text": [
            "9\n",
            "2\n",
            "0.0\n",
            "9.0\n",
            "True\n",
            "True\n",
            "9\n",
            "2.7\n",
            "False\n",
            "(2.7+0j)\n",
            "0j\n",
            "(4+4j)\n"
          ]
        }
      ]
    }
  ]
}