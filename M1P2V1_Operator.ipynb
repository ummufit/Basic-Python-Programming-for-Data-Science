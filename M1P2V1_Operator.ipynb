{
  "nbformat": 4,
  "nbformat_minor": 0,
  "metadata": {
    "colab": {
      "name": "M1P2V1_Operator",
      "provenance": []
    },
    "kernelspec": {
      "name": "python3",
      "display_name": "Python 3"
    },
    "language_info": {
      "name": "python"
    }
  },
  "cells": [
    {
      "cell_type": "markdown",
      "metadata": {
        "id": "9HzU03ArNIXz"
      },
      "source": [
        "# Operator"
      ]
    },
    {
      "cell_type": "markdown",
      "metadata": {
        "id": "hdQu31USNn3s"
      },
      "source": [
        "Operator = Simbol-simbol yang dapat mengubah nilai sari satu variabel dengan melibatkan satu atau lebih variabel atau literal."
      ]
    },
    {
      "cell_type": "markdown",
      "metadata": {
        "id": "As9bL3o9O1cX"
      },
      "source": [
        "Tipe-tipe operator\n",
        "1. Operator Aritmatika\n",
        "2. Operator Assigment\n",
        "3. Operator Pembanding\n",
        "4. Operator Logika\n",
        "5. Operator Membership"
      ]
    },
    {
      "cell_type": "markdown",
      "metadata": {
        "id": "Ewo03v5EPRsv"
      },
      "source": [
        "# Operator Aritmatika\n",
        "\n",
        "---\n",
        "\n",
        "\n",
        "Operasi aritmatika digunakan untuk melakukan operasi matematika yang umum\n"
      ]
    },
    {
      "cell_type": "markdown",
      "metadata": {
        "id": "qvfDyv9QPzoe"
      },
      "source": [
        "Macam-macam operasi aritmatika\n",
        "```\n",
        "+  : Penjumlahan\n",
        "-  : Pengurangan\n",
        "*  : Perkalian\n",
        "/  : Pembagian\n",
        "%  : Modulus\n",
        "** : Perpangkatan\n",
        "// : Pembagian dengan hasil pembulatan flooring\n",
        "```\n",
        "\n",
        "\n"
      ]
    },
    {
      "cell_type": "code",
      "metadata": {
        "colab": {
          "base_uri": "https://localhost:8080/"
        },
        "id": "nggwcqbaR-uG",
        "outputId": "81c06085-ddcc-4771-9028-137ba39871bc"
      },
      "source": [
        "# Contoh penggunaan Operator Aritmatika\n",
        "\n",
        "# Penjumlahan\n",
        "print('-'*20)\n",
        "print('Penjumlahan')\n",
        "print(2+2)\n",
        "# Pengurangan\n",
        "print('-'*20)\n",
        "print('Pengurangan')\n",
        "print(2-3)\n",
        "# Perkalian\n",
        "print('-'*20)\n",
        "print('Perkalian')\n",
        "print(2*3)\n",
        "# Pembagian\n",
        "print('-'*20)\n",
        "print('Pembagian')\n",
        "print(2/3)\n",
        "# Modulus\n",
        "print('-'*20)\n",
        "print('Modulus')\n",
        "print(2%3)\n",
        "# Perpangkatan\n",
        "print('-'*20)\n",
        "print('Perpangkatan')\n",
        "print(2**3)\n",
        "# Pembagian Pembulatan Flooring\n",
        "print('-'*20)\n",
        "print('Pembagian Pembulatan Flooring')\n",
        "print(2//3)"
      ],
      "execution_count": null,
      "outputs": [
        {
          "output_type": "stream",
          "name": "stdout",
          "text": [
            "--------------------\n",
            "Penjumlahan\n",
            "4\n",
            "--------------------\n",
            "Pengurangan\n",
            "-1\n",
            "--------------------\n",
            "Perkalian\n",
            "6\n",
            "--------------------\n",
            "Pembagian\n",
            "0.6666666666666666\n",
            "--------------------\n",
            "Modulus\n",
            "2\n",
            "--------------------\n",
            "Perpangkatan\n",
            "8\n",
            "--------------------\n",
            "Pembagian Pembulatan Flooring\n",
            "0\n"
          ]
        }
      ]
    },
    {
      "cell_type": "code",
      "metadata": {
        "colab": {
          "base_uri": "https://localhost:8080/"
        },
        "id": "JbHKFx4nXu3T",
        "outputId": "535edaaa-53ae-4904-dede-a91faffb70ee"
      },
      "source": [
        "# Aplikasi penggunaan Operator Aritmatika\n",
        "\n",
        "# Penjumlahan\n",
        "print('-'*20)\n",
        "print('Penjumlahan')\n",
        "print(2+9)\n",
        "# Pengurangan\n",
        "print('-'*20)\n",
        "print('Pengurangan')\n",
        "print(23-3)\n",
        "# Perkalian\n",
        "print('-'*20)\n",
        "print('Perkalian')\n",
        "print(4*3)\n",
        "# Pembagian\n",
        "print('-'*20)\n",
        "print('Pembagian')\n",
        "print(9/3)\n",
        "# Modulus\n",
        "print('-'*20)\n",
        "print('Modulus')\n",
        "print(5%3)\n",
        "# Perpangkatan\n",
        "print('-'*20)\n",
        "print('Perpangkatan')\n",
        "print(7**3)\n",
        "# Pembagian Pembulatan Flooring\n",
        "print('-'*20)\n",
        "print('Pembagian Pembulatan Flooring')\n",
        "print(2//5)"
      ],
      "execution_count": null,
      "outputs": [
        {
          "output_type": "stream",
          "name": "stdout",
          "text": [
            "--------------------\n",
            "Penjumlahan\n",
            "11\n",
            "--------------------\n",
            "Pengurangan\n",
            "20\n",
            "--------------------\n",
            "Perkalian\n",
            "12\n",
            "--------------------\n",
            "Pembagian\n",
            "3.0\n",
            "--------------------\n",
            "Modulus\n",
            "2\n",
            "--------------------\n",
            "Perpangkatan\n",
            "343\n",
            "--------------------\n",
            "Pembagian Pembulatan Flooring\n",
            "0\n"
          ]
        }
      ]
    },
    {
      "cell_type": "markdown",
      "metadata": {
        "id": "rlI6KPCXlxwy"
      },
      "source": [
        "# Operator Assigment"
      ]
    },
    {
      "cell_type": "markdown",
      "metadata": {
        "id": "FnwotCPTl8VA"
      },
      "source": [
        "Operator assigment digunakan untuk menyimpan nilai menjadi suatu variabel\n",
        "```\n",
        "= : contohnya x = 5 -> x = 5\n",
        "+= : contohnya x = x + 5 -> x += 5\n",
        "-= : contohnya x = x - 5 -> x -= 5\n",
        "*= : contohnya x = x * 5 -> x *= 5\n",
        "/= : contohnya x = x / 5 -> x /= 5\n",
        "%= : contohnya x = x % 5 -> x %= 5\n",
        "//= : contohnya x = x // 5 -> x //= 5\n",
        "**= : contohnya x = x ** 5 -> x **= 5\n",
        "```"
      ]
    },
    {
      "cell_type": "code",
      "metadata": {
        "id": "YKIuDltfuZun"
      },
      "source": [
        "# Contoh penggunaan operator Assigment\n",
        "\n",
        "#Penjumlahan\n",
        "print('Penjumlahan')\n",
        "x = 5\n",
        "x = x + 5\n",
        "print(x)\n",
        "x = 5\n",
        "x += 3\n",
        "print(x)\n",
        "print('-'*20)\n",
        "\n",
        "#Pengurangan\n",
        "x = 5\n",
        "x = x - 5\n",
        "print(x)\n",
        "x = 5\n",
        "x -= 3\n",
        "print(x)\n",
        "print('-'*20)\n",
        "\n",
        "#Perkalian\n",
        "x = 5\n",
        "x = x * 5\n",
        "print(x)\n",
        "x = 5\n",
        "x *= 3\n",
        "print(x)\n",
        "print('-'*20)\n",
        "\n",
        "#Pembagian\n",
        "x = 5\n",
        "x = x / 5\n",
        "print(x)\n",
        "x = 5\n",
        "x /= 3\n",
        "print(x)\n",
        "print('-'*20)\n",
        "\n"
      ],
      "execution_count": null,
      "outputs": []
    },
    {
      "cell_type": "markdown",
      "metadata": {
        "id": "kTdZzHcxjsSx"
      },
      "source": [
        "**Latihan Operator Assigment**"
      ]
    },
    {
      "cell_type": "code",
      "metadata": {
        "colab": {
          "base_uri": "https://localhost:8080/"
        },
        "id": "3Cn73qMpjzl1",
        "outputId": "e15a7ca1-ae13-4d76-d016-86d2155cf509"
      },
      "source": [
        "#Penjumlahan\n",
        "print('Penjumlahan')\n",
        "x = 7\n",
        "x = x + 7\n",
        "print(x)\n",
        "x = 3\n",
        "x += 10\n",
        "print(x)\n",
        "print('-'*20)\n",
        "\n",
        "#Pengurangan\n",
        "x = 7\n",
        "x = x - 7\n",
        "print(x)\n",
        "x = 3\n",
        "x -= 10\n",
        "print(x)\n",
        "print('-'*20)\n",
        "\n",
        "#Perkalian\n",
        "x = 7\n",
        "x = x * 3\n",
        "print(x)\n",
        "x = 7\n",
        "x *= 5\n",
        "print(x)\n",
        "print('-'*20)\n",
        "\n",
        "#Pembagian\n",
        "x = 6\n",
        "x = x / 7\n",
        "print(x)\n",
        "x = 6\n",
        "x /= 7\n",
        "print(x)\n",
        "print('-'*20)\n"
      ],
      "execution_count": 1,
      "outputs": [
        {
          "output_type": "stream",
          "name": "stdout",
          "text": [
            "Penjumlahan\n",
            "14\n",
            "13\n",
            "--------------------\n",
            "0\n",
            "-7\n",
            "--------------------\n",
            "21\n",
            "35\n",
            "--------------------\n",
            "0.8571428571428571\n",
            "0.8571428571428571\n",
            "--------------------\n"
          ]
        }
      ]
    },
    {
      "cell_type": "markdown",
      "metadata": {
        "id": "eyRVGFemlQfA"
      },
      "source": [
        "## Operator Pembanding"
      ]
    },
    {
      "cell_type": "markdown",
      "metadata": {
        "id": "l7Y4qqYOlXEX"
      },
      "source": [
        "Operator pembanding digunakan untuk membandingkan 2 nilai atau variabel\n"
      ]
    },
    {
      "cell_type": "markdown",
      "metadata": {
        "id": "DVJcGcsIlwVP"
      },
      "source": [
        "Macam-macam Operator Pembanding:\n",
        "\n",
        "```\n",
        "== -> samadengan\n",
        "!= -> tidak samadengan\n",
        "> -> lebih dari\n",
        "< -> kurang dari\n",
        ">= -> lebih dari samadengan\n",
        "<= -> kurang dari samadengan\n",
        "```\n",
        "\n"
      ]
    },
    {
      "cell_type": "code",
      "metadata": {
        "colab": {
          "base_uri": "https://localhost:8080/"
        },
        "id": "95BOpkUUnAdC",
        "outputId": "f22b6785-2db1-4cef-e18a-1766f867050c"
      },
      "source": [
        "# Contoh Penggunaan Operator Pembanding\n",
        "\n",
        "print(2==2)\n",
        "print(2!=2)\n",
        "print(2>2)\n",
        "print(2<2)\n",
        "print(2>=2)\n",
        "print(2<=2)"
      ],
      "execution_count": 4,
      "outputs": [
        {
          "output_type": "stream",
          "name": "stdout",
          "text": [
            "True\n",
            "False\n",
            "False\n",
            "False\n",
            "True\n",
            "True\n"
          ]
        }
      ]
    },
    {
      "cell_type": "markdown",
      "metadata": {
        "id": "XlbQVTUTnopG"
      },
      "source": [
        "**Latihan Operator 3**"
      ]
    },
    {
      "cell_type": "code",
      "metadata": {
        "colab": {
          "base_uri": "https://localhost:8080/"
        },
        "id": "psU3UH-CnyHG",
        "outputId": "62a68767-040b-4867-c5ac-01a1e18844d6"
      },
      "source": [
        "print(5==5)\n",
        "print(5!=5)\n",
        "print(5>6)\n",
        "print(5<6)\n",
        "print(5>=5)\n",
        "print(5<=5)"
      ],
      "execution_count": 5,
      "outputs": [
        {
          "output_type": "stream",
          "name": "stdout",
          "text": [
            "True\n",
            "False\n",
            "False\n",
            "True\n",
            "True\n",
            "True\n"
          ]
        }
      ]
    },
    {
      "cell_type": "markdown",
      "metadata": {
        "id": "p9XQHjAioClS"
      },
      "source": [
        "# Operator Logika"
      ]
    },
    {
      "cell_type": "markdown",
      "metadata": {
        "id": "WaRSPNYuoKF_"
      },
      "source": [
        "Operator logika digunakan untuk mengkombinasikan statement-statement kondisional"
      ]
    },
    {
      "cell_type": "markdown",
      "metadata": {
        "id": "EV93XI2boWRD"
      },
      "source": [
        "Macam-macam operator logika\n",
        "```\n",
        "and -> kondisi menjadi benar apabila semua statementnya benar\n",
        "or  -> kondisi menjadi benar apabila salah satu statementnya ada yang benar\n",
        "not -> membalik hasil dari benar ke salah dan salah ke benar\n",
        "```"
      ]
    },
    {
      "cell_type": "code",
      "metadata": {
        "colab": {
          "base_uri": "https://localhost:8080/"
        },
        "id": "ECJZ08VUpv0S",
        "outputId": "797c9fa9-510e-4f7f-8e3f-c621bca4b14d"
      },
      "source": [
        "# Contoh penggunaan operator logika\n",
        "\n",
        "print(True and False)\n",
        "print(False or False)\n",
        "print(not False and True)\n"
      ],
      "execution_count": 6,
      "outputs": [
        {
          "output_type": "stream",
          "name": "stdout",
          "text": [
            "False\n",
            "False\n",
            "True\n"
          ]
        }
      ]
    },
    {
      "cell_type": "markdown",
      "metadata": {
        "id": "n_3pquIVrzXZ"
      },
      "source": [
        "**Latihan Operator 4**"
      ]
    },
    {
      "cell_type": "code",
      "metadata": {
        "colab": {
          "base_uri": "https://localhost:8080/"
        },
        "id": "F93wdhOFr3-c",
        "outputId": "d54e078d-74a0-460a-94ae-644452d19168"
      },
      "source": [
        "print(False and False)\n",
        "print(False or True)\n",
        "print(not True and True)\n"
      ],
      "execution_count": 8,
      "outputs": [
        {
          "output_type": "stream",
          "name": "stdout",
          "text": [
            "False\n",
            "True\n",
            "False\n"
          ]
        }
      ]
    },
    {
      "cell_type": "markdown",
      "metadata": {
        "id": "XXXHnMwpu3mo"
      },
      "source": [
        "# Operator Keanggotaan"
      ]
    },
    {
      "cell_type": "markdown",
      "metadata": {
        "id": "qv3gD17Xu92v"
      },
      "source": [
        "Operator keanggotaan digunakan untuk menguji apakah urutan disajikan dalam suatu objek"
      ]
    },
    {
      "cell_type": "markdown",
      "metadata": {
        "id": "lBNFJsfSCfN0"
      },
      "source": [
        "Macam-macam operator keanggotaan\n",
        "```\n",
        "in     -> return True ketika nilai tertentu dalam sebuah urutan ada\n",
        "not in -> return True ketika nilai tertentu dalam sebuah urutan tidak ada\n",
        "```"
      ]
    },
    {
      "cell_type": "code",
      "metadata": {
        "colab": {
          "base_uri": "https://localhost:8080/"
        },
        "id": "x5repNPNClvN",
        "outputId": "7e197432-7400-489f-a9bb-c9e069ff5450"
      },
      "source": [
        "# Contoh penggunaan Operator Keanggotaan\n",
        "\n",
        "a = (1,2,3,4,5,6)\n",
        "b = 2\n",
        "\n",
        "print(b in a)\n",
        "\n",
        "print('-'*20)\n",
        "a = (1,2,3,4,5,6)\n",
        "b = 7\n",
        "print(b not in a)\n"
      ],
      "execution_count": 9,
      "outputs": [
        {
          "output_type": "stream",
          "name": "stdout",
          "text": [
            "True\n",
            "--------------------\n",
            "True\n"
          ]
        }
      ]
    },
    {
      "cell_type": "markdown",
      "metadata": {
        "id": "SV98mojbDjOV"
      },
      "source": [
        "**Latihan Operator 5**"
      ]
    },
    {
      "cell_type": "code",
      "metadata": {
        "colab": {
          "base_uri": "https://localhost:8080/"
        },
        "id": "6q2q6hggDrGw",
        "outputId": "2e276dbe-bb7f-42c8-a315-04b74ef02dc7"
      },
      "source": [
        "a = (2,4,5,7,8,)\n",
        "b = 2\n",
        "\n",
        "print(b in a)\n",
        "\n",
        "print('-'*20)\n",
        "a = (11,12,13,14,15)\n",
        "b = 7\n",
        "print(b not in a)"
      ],
      "execution_count": 10,
      "outputs": [
        {
          "output_type": "stream",
          "name": "stdout",
          "text": [
            "True\n",
            "--------------------\n",
            "True\n"
          ]
        }
      ]
    }
  ]
}